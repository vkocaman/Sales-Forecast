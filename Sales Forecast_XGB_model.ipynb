{
 "cells": [
  {
   "cell_type": "code",
   "execution_count": 43,
   "metadata": {
    "collapsed": true,
    "deletable": true,
    "editable": true
   },
   "outputs": [],
   "source": [
    "import pandas as pd\n",
    "import numpy as np\n",
    "\n",
    "df_E1 = pd.read_csv('./new task/E1.csv', sep=';', low_memory=False,index_col=None)\n",
    "df_H1 = pd.read_csv('./new task/H1.csv', sep=';',low_memory=False,index_col=None)\n",
    "df_ABW = pd.read_csv('./new task/ABW.csv', sep=';',low_memory=False,index_col=None)\n",
    "df_score = pd.read_csv('./new task/Score.csv', sep=';',low_memory=False,index_col=None)"
   ]
  },
  {
   "cell_type": "code",
   "execution_count": 44,
   "metadata": {
    "collapsed": false
   },
   "outputs": [
    {
     "data": {
      "text/html": [
       "<div>\n",
       "<table border=\"1\" class=\"dataframe\">\n",
       "  <thead>\n",
       "    <tr style=\"text-align: right;\">\n",
       "      <th></th>\n",
       "      <th>Order</th>\n",
       "      <th>SKU_number</th>\n",
       "      <th>SoldFlag</th>\n",
       "      <th>Sold Count</th>\n",
       "      <th>EditionNumber</th>\n",
       "      <th>HasEditionFlag</th>\n",
       "      <th>RankAvg1</th>\n",
       "      <th>ListPrice</th>\n",
       "      <th>PublYear</th>\n",
       "      <th>LowUsedPrice</th>\n",
       "      <th>LowNewPrice</th>\n",
       "      <th>PageCount</th>\n",
       "      <th>BookCount</th>\n",
       "      <th>EditionsCount</th>\n",
       "      <th>PriorAnywhereSoldBook</th>\n",
       "      <th>PriorAnywhereSoldISBN</th>\n",
       "    </tr>\n",
       "  </thead>\n",
       "  <tbody>\n",
       "    <tr>\n",
       "      <th>0</th>\n",
       "      <td>3</td>\n",
       "      <td>178024</td>\n",
       "      <td>1</td>\n",
       "      <td>2</td>\n",
       "      <td>3</td>\n",
       "      <td>1</td>\n",
       "      <td>1233862</td>\n",
       "      <td>104.95</td>\n",
       "      <td>2005</td>\n",
       "      <td>4.00</td>\n",
       "      <td>26.19</td>\n",
       "      <td>3</td>\n",
       "      <td>44.0</td>\n",
       "      <td>7</td>\n",
       "      <td>8</td>\n",
       "      <td>3</td>\n",
       "    </tr>\n",
       "    <tr>\n",
       "      <th>1</th>\n",
       "      <td>4</td>\n",
       "      <td>169903</td>\n",
       "      <td>1</td>\n",
       "      <td>1</td>\n",
       "      <td>9</td>\n",
       "      <td>1</td>\n",
       "      <td>100504</td>\n",
       "      <td>267.95</td>\n",
       "      <td>2009</td>\n",
       "      <td>7.16</td>\n",
       "      <td>46.57</td>\n",
       "      <td>9</td>\n",
       "      <td>57.0</td>\n",
       "      <td>7</td>\n",
       "      <td>13</td>\n",
       "      <td>7</td>\n",
       "    </tr>\n",
       "    <tr>\n",
       "      <th>2</th>\n",
       "      <td>5</td>\n",
       "      <td>170125</td>\n",
       "      <td>1</td>\n",
       "      <td>1</td>\n",
       "      <td>6</td>\n",
       "      <td>1</td>\n",
       "      <td>362749</td>\n",
       "      <td>183.95</td>\n",
       "      <td>2010</td>\n",
       "      <td>7.22</td>\n",
       "      <td>23.70</td>\n",
       "      <td>6</td>\n",
       "      <td>79.0</td>\n",
       "      <td>7</td>\n",
       "      <td>17</td>\n",
       "      <td>10</td>\n",
       "    </tr>\n",
       "    <tr>\n",
       "      <th>3</th>\n",
       "      <td>6</td>\n",
       "      <td>52280</td>\n",
       "      <td>1</td>\n",
       "      <td>1</td>\n",
       "      <td>3</td>\n",
       "      <td>1</td>\n",
       "      <td>288271</td>\n",
       "      <td>243.95</td>\n",
       "      <td>2007</td>\n",
       "      <td>4.99</td>\n",
       "      <td>11.99</td>\n",
       "      <td>3</td>\n",
       "      <td>101.0</td>\n",
       "      <td>12</td>\n",
       "      <td>62</td>\n",
       "      <td>12</td>\n",
       "    </tr>\n",
       "    <tr>\n",
       "      <th>4</th>\n",
       "      <td>7</td>\n",
       "      <td>50647</td>\n",
       "      <td>1</td>\n",
       "      <td>1</td>\n",
       "      <td>3</td>\n",
       "      <td>1</td>\n",
       "      <td>473942</td>\n",
       "      <td>113.95</td>\n",
       "      <td>2007</td>\n",
       "      <td>4.85</td>\n",
       "      <td>22.72</td>\n",
       "      <td>3</td>\n",
       "      <td>82.0</td>\n",
       "      <td>7</td>\n",
       "      <td>29</td>\n",
       "      <td>18</td>\n",
       "    </tr>\n",
       "    <tr>\n",
       "      <th>5</th>\n",
       "      <td>8</td>\n",
       "      <td>114788</td>\n",
       "      <td>1</td>\n",
       "      <td>1</td>\n",
       "      <td>3</td>\n",
       "      <td>1</td>\n",
       "      <td>802747</td>\n",
       "      <td>81.33</td>\n",
       "      <td>2003</td>\n",
       "      <td>4.00</td>\n",
       "      <td>12.49</td>\n",
       "      <td>3</td>\n",
       "      <td>84.0</td>\n",
       "      <td>4</td>\n",
       "      <td>14</td>\n",
       "      <td>14</td>\n",
       "    </tr>\n",
       "    <tr>\n",
       "      <th>6</th>\n",
       "      <td>9</td>\n",
       "      <td>200443</td>\n",
       "      <td>1</td>\n",
       "      <td>1</td>\n",
       "      <td>1</td>\n",
       "      <td>0</td>\n",
       "      <td>956815</td>\n",
       "      <td>67.95</td>\n",
       "      <td>2009</td>\n",
       "      <td>13.88</td>\n",
       "      <td>48.99</td>\n",
       "      <td>1</td>\n",
       "      <td>33.0</td>\n",
       "      <td>2</td>\n",
       "      <td>5</td>\n",
       "      <td>5</td>\n",
       "    </tr>\n",
       "    <tr>\n",
       "      <th>7</th>\n",
       "      <td>10</td>\n",
       "      <td>132967</td>\n",
       "      <td>1</td>\n",
       "      <td>1</td>\n",
       "      <td>10</td>\n",
       "      <td>1</td>\n",
       "      <td>68808</td>\n",
       "      <td>130.60</td>\n",
       "      <td>2009</td>\n",
       "      <td>28.96</td>\n",
       "      <td>154.75</td>\n",
       "      <td>10</td>\n",
       "      <td>37.0</td>\n",
       "      <td>12</td>\n",
       "      <td>9</td>\n",
       "      <td>3</td>\n",
       "    </tr>\n",
       "    <tr>\n",
       "      <th>8</th>\n",
       "      <td>11</td>\n",
       "      <td>270690</td>\n",
       "      <td>1</td>\n",
       "      <td>1</td>\n",
       "      <td>3</td>\n",
       "      <td>1</td>\n",
       "      <td>657492</td>\n",
       "      <td>109.00</td>\n",
       "      <td>2010</td>\n",
       "      <td>4.00</td>\n",
       "      <td>14.94</td>\n",
       "      <td>3</td>\n",
       "      <td>109.0</td>\n",
       "      <td>7</td>\n",
       "      <td>25</td>\n",
       "      <td>17</td>\n",
       "    </tr>\n",
       "    <tr>\n",
       "      <th>9</th>\n",
       "      <td>12</td>\n",
       "      <td>434811</td>\n",
       "      <td>1</td>\n",
       "      <td>1</td>\n",
       "      <td>8</td>\n",
       "      <td>1</td>\n",
       "      <td>681807</td>\n",
       "      <td>85.00</td>\n",
       "      <td>2010</td>\n",
       "      <td>11.17</td>\n",
       "      <td>42.98</td>\n",
       "      <td>8</td>\n",
       "      <td>34.0</td>\n",
       "      <td>5</td>\n",
       "      <td>12</td>\n",
       "      <td>5</td>\n",
       "    </tr>\n",
       "  </tbody>\n",
       "</table>\n",
       "</div>"
      ],
      "text/plain": [
       "   Order SKU_number  SoldFlag  Sold Count  EditionNumber  HasEditionFlag  \\\n",
       "0      3     178024         1           2              3               1   \n",
       "1      4     169903         1           1              9               1   \n",
       "2      5     170125         1           1              6               1   \n",
       "3      6      52280         1           1              3               1   \n",
       "4      7      50647         1           1              3               1   \n",
       "5      8     114788         1           1              3               1   \n",
       "6      9     200443         1           1              1               0   \n",
       "7     10     132967         1           1             10               1   \n",
       "8     11     270690         1           1              3               1   \n",
       "9     12     434811         1           1              8               1   \n",
       "\n",
       "   RankAvg1  ListPrice  PublYear  LowUsedPrice  LowNewPrice  PageCount  \\\n",
       "0   1233862     104.95      2005          4.00        26.19          3   \n",
       "1    100504     267.95      2009          7.16        46.57          9   \n",
       "2    362749     183.95      2010          7.22        23.70          6   \n",
       "3    288271     243.95      2007          4.99        11.99          3   \n",
       "4    473942     113.95      2007          4.85        22.72          3   \n",
       "5    802747      81.33      2003          4.00        12.49          3   \n",
       "6    956815      67.95      2009         13.88        48.99          1   \n",
       "7     68808     130.60      2009         28.96       154.75         10   \n",
       "8    657492     109.00      2010          4.00        14.94          3   \n",
       "9    681807      85.00      2010         11.17        42.98          8   \n",
       "\n",
       "   BookCount  EditionsCount  PriorAnywhereSoldBook  PriorAnywhereSoldISBN  \n",
       "0       44.0              7                      8                      3  \n",
       "1       57.0              7                     13                      7  \n",
       "2       79.0              7                     17                     10  \n",
       "3      101.0             12                     62                     12  \n",
       "4       82.0              7                     29                     18  \n",
       "5       84.0              4                     14                     14  \n",
       "6       33.0              2                      5                      5  \n",
       "7       37.0             12                      9                      3  \n",
       "8      109.0              7                     25                     17  \n",
       "9       34.0              5                     12                      5  "
      ]
     },
     "execution_count": 44,
     "metadata": {},
     "output_type": "execute_result"
    }
   ],
   "source": [
    "df_E1.head(10)"
   ]
  },
  {
   "cell_type": "code",
   "execution_count": 35,
   "metadata": {
    "collapsed": false,
    "deletable": true,
    "editable": true
   },
   "outputs": [],
   "source": [
    "df_E1=df_E1.drop(['Order','Sold Count','SKU_number'], axis=1)\n",
    "\n",
    "df_H1=df_H1.drop(['Order','BookID', 'ISBN','SKU_number','Sold Count'],axis=1)\n",
    "\n",
    "df_ABW=df_ABW.drop('Sold Count', axis=1)\n",
    "\n",
    "df_score=df_score.drop('Sold Count', axis=1)"
   ]
  },
  {
   "cell_type": "code",
   "execution_count": 36,
   "metadata": {
    "collapsed": false
   },
   "outputs": [],
   "source": [
    "df_ABW['PriorAnywhereSoldISBN'] = pd.to_numeric(df_ABW['PriorAnywhereSoldISBN'], errors='coerce')\n",
    "\n",
    "df_E1=df_E1.dropna(subset=['BookCount'])\n",
    "\n",
    "df_score['LowUsedPrice'] = pd.to_numeric(df_score['LowUsedPrice'], errors='coerce')\n",
    "df_score['ListPrice'] = pd.to_numeric(df_score['ListPrice'], errors='coerce')\n",
    "df_score['LowNewPrice'] = pd.to_numeric(df_score['LowNewPrice'], errors='coerce')\n",
    "df_score['EditionsCount']=pd.to_numeric(df_score['EditionsCount'], errors='coerce')\n",
    "df_score['PriorAnywhereSoldISBN'] = pd.to_numeric(df_score['PriorAnywhereSoldISBN'], errors='coerce')\n",
    "\n",
    "df_score['EditionsCount']=df_score['EditionsCount'].astype(int)\n",
    "df_score['BookCount']=df_score['BookCount'].astype(float)\n",
    "df_score['PriorAnywhereSoldISBN']=df_score['PriorAnywhereSoldISBN'].astype(int)"
   ]
  },
  {
   "cell_type": "code",
   "execution_count": 37,
   "metadata": {
    "collapsed": false
   },
   "outputs": [
    {
     "name": "stdout",
     "output_type": "stream",
     "text": [
      "0    73886\n",
      "1     5915\n",
      "Name: SoldFlag, dtype: int64\n",
      "0    88854\n",
      "1     1159\n",
      "Name: SoldFlag, dtype: int64\n",
      "0    57265\n",
      "1     2180\n",
      "Name: SoldFlag, dtype: int64\n"
     ]
    }
   ],
   "source": [
    "print (df_E1['SoldFlag'].value_counts())\n",
    "print (df_H1['SoldFlag'].value_counts())\n",
    "print (df_ABW['SoldFlag'].value_counts())"
   ]
  },
  {
   "cell_type": "code",
   "execution_count": 38,
   "metadata": {
    "collapsed": false
   },
   "outputs": [
    {
     "name": "stdout",
     "output_type": "stream",
     "text": [
      "1    73886\n",
      "0    73886\n",
      "Name: SoldFlag, dtype: int64\n",
      "1    88854\n",
      "0    88854\n",
      "Name: SoldFlag, dtype: int64\n",
      "1    57265\n",
      "0    57265\n",
      "Name: SoldFlag, dtype: int64\n"
     ]
    }
   ],
   "source": [
    "from sklearn.utils import resample\n",
    "\n",
    "# Separate majority and minority classes\n",
    "df_majority = df_E1[df_E1.SoldFlag==0]\n",
    "df_minority = df_E1[df_E1.SoldFlag==1]\n",
    " \n",
    "# Upsample minority class\n",
    "df_minority_upsampled = resample(df_minority, \n",
    "                                 replace=True,     # sample with replacement\n",
    "                                 n_samples=73886,    # to match majority class\n",
    "                                 random_state=123) # reproducible results\n",
    " \n",
    "# Combine majority class with upsampled minority class\n",
    "df_E1 = pd.concat([df_majority, df_minority_upsampled])\n",
    "\n",
    "# Display new class counts\n",
    "print (df_E1.SoldFlag.value_counts())\n",
    "\n",
    "# Separate majority and minority classes\n",
    "df_majority = df_H1[df_H1.SoldFlag==0]\n",
    "df_minority = df_H1[df_H1.SoldFlag==1]\n",
    " \n",
    "# Upsample minority class\n",
    "df_minority_upsampled = resample(df_minority, \n",
    "                                 replace=True,     # sample with replacement\n",
    "                                 n_samples=88854,    # to match majority class\n",
    "                                 random_state=345) # reproducible results\n",
    " \n",
    "# Combine majority class with upsampled minority class\n",
    "df_H1 = pd.concat([df_majority, df_minority_upsampled])\n",
    " \n",
    "# Display new class counts\n",
    "print (df_H1.SoldFlag.value_counts())\n",
    "\n",
    "\n",
    "# Separate majority and minority classes\n",
    "df_majority = df_ABW[df_ABW.SoldFlag==0]\n",
    "df_minority = df_ABW[df_ABW.SoldFlag==1]\n",
    " \n",
    "# Upsample minority class\n",
    "df_minority_upsampled = resample(df_minority, \n",
    "                                 replace=True,     # sample with replacement\n",
    "                                 n_samples=57265,    # to match majority class\n",
    "                                 random_state=567) # reproducible results\n",
    " \n",
    "# Combine majority class with upsampled minority class\n",
    "df_ABW = pd.concat([df_majority, df_minority_upsampled])\n",
    " \n",
    "# Display new class counts\n",
    "print (df_ABW.SoldFlag.value_counts())"
   ]
  },
  {
   "cell_type": "code",
   "execution_count": 39,
   "metadata": {
    "collapsed": false
   },
   "outputs": [
    {
     "name": "stdout",
     "output_type": "stream",
     "text": [
      "(118217, 12) (118217,)\n",
      "(29555, 12) (29555,)\n"
     ]
    }
   ],
   "source": [
    "from sklearn.model_selection import train_test_split\n",
    "\n",
    "y=df_E1['SoldFlag']\n",
    "X=df_E1.drop('SoldFlag', axis=1)\n",
    "\n",
    "X_train, X_test, y_train, y_test = train_test_split(X, y, test_size=0.2, random_state=42)\n",
    "\n",
    "# create training and testing vars\n",
    "print (X_train.shape, y_train.shape)\n",
    "print (X_test.shape, y_test.shape)"
   ]
  },
  {
   "cell_type": "code",
   "execution_count": 40,
   "metadata": {
    "collapsed": false
   },
   "outputs": [
    {
     "name": "stdout",
     "output_type": "stream",
     "text": [
      "0.932623903499\n",
      "0.904652343089\n",
      "Dataset E1 probabilities: [[ 0.88830489  0.1116951 ]\n",
      " [ 0.92300928  0.0769907 ]\n",
      " [ 0.91810739  0.08189261]\n",
      " ..., \n",
      " [ 0.94049901  0.05950101]\n",
      " [ 0.93064392  0.06935609]\n",
      " [ 0.90762728  0.09237273]]\n"
     ]
    }
   ],
   "source": [
    "import xgboost as xgb\n",
    "\n",
    "from xgboost import XGBClassifier\n",
    "\n",
    "xgb_model = XGBClassifier(learning_rate=0.08, n_estimators=200, max_depth=10)\n",
    "xgb_model.fit(X_train, y_train)\n",
    "\n",
    "print (xgb_model.score(X_train,y_train))\n",
    "\n",
    "from sklearn.metrics import accuracy_score\n",
    "pred_y_0 = xgb_model.predict(X_test)\n",
    "print( accuracy_score(pred_y_0, y_test))\n",
    "\n",
    "probs=xgb_model.predict_proba(df_score)\n",
    "\n",
    "print (\"Dataset E1 probabilities:\",probs)"
   ]
  },
  {
   "cell_type": "code",
   "execution_count": 41,
   "metadata": {
    "collapsed": false
   },
   "outputs": [
    {
     "name": "stdout",
     "output_type": "stream",
     "text": [
      "(142166, 12) (142166,)\n",
      "(35542, 12) (35542,)\n",
      "0.993338772984\n",
      "0.988689437848\n",
      "Dataset H1 probabilities: [[  7.63333738e-01   2.36666277e-01]\n",
      " [  9.99345124e-01   6.54849166e-04]\n",
      " [  9.98750746e-01   1.24925061e-03]\n",
      " ..., \n",
      " [  9.96429801e-01   3.57020367e-03]\n",
      " [  9.93879259e-01   6.12075021e-03]\n",
      " [  9.98837292e-01   1.16272934e-03]]\n"
     ]
    }
   ],
   "source": [
    "y=df_H1['SoldFlag']\n",
    "X=df_H1.drop('SoldFlag', axis=1)\n",
    "\n",
    "X_train, X_test, y_train, y_test = train_test_split(X, y, test_size=0.2, random_state=42)\n",
    "\n",
    "# create training and testing vars\n",
    "print (X_train.shape, y_train.shape)\n",
    "print (X_test.shape, y_test.shape)\n",
    "\n",
    "xgb_model = XGBClassifier(learning_rate=0.08, n_estimators=200, max_depth=10)\n",
    "xgb_model.fit(X_train, y_train)\n",
    "\n",
    "print (xgb_model.score(X_train,y_train))\n",
    "\n",
    "from sklearn.metrics import accuracy_score\n",
    "pred_y_0 = xgb_model.predict(X_test)\n",
    "print( accuracy_score(pred_y_0, y_test))\n",
    "\n",
    "probs=xgb_model.predict_proba(df_score)\n",
    "\n",
    "print (\"Dataset H1 probabilities:\",probs)"
   ]
  },
  {
   "cell_type": "code",
   "execution_count": 42,
   "metadata": {
    "collapsed": false
   },
   "outputs": [
    {
     "name": "stdout",
     "output_type": "stream",
     "text": [
      "(91624, 12) (91624,)\n",
      "(22906, 12) (22906,)\n",
      "0.995285078145\n",
      "0.979175761809\n",
      "Dataset ABW probabilities: [[  9.99983728e-01   1.62592460e-05]\n",
      " [  9.54631090e-01   4.53689024e-02]\n",
      " [  9.99958098e-01   4.19053467e-05]\n",
      " ..., \n",
      " [  9.99988139e-01   1.18707067e-05]\n",
      " [  9.99969423e-01   3.05853027e-05]\n",
      " [  9.99921441e-01   7.85869561e-05]]\n"
     ]
    }
   ],
   "source": [
    "y=df_ABW['SoldFlag']\n",
    "X=df_ABW.drop('SoldFlag', axis=1)\n",
    "\n",
    "X_train, X_test, y_train, y_test = train_test_split(X, y, test_size=0.2, random_state=42)\n",
    "\n",
    "# create training and testing vars\n",
    "print (X_train.shape, y_train.shape)\n",
    "print (X_test.shape, y_test.shape)\n",
    "\n",
    "xgb_model = XGBClassifier(learning_rate=0.08, n_estimators=200, max_depth=10)\n",
    "xgb_model.fit(X_train, y_train)\n",
    "\n",
    "print (xgb_model.score(X_train,y_train))\n",
    "\n",
    "from sklearn.metrics import accuracy_score\n",
    "pred_y_0 = xgb_model.predict(X_test)\n",
    "print( accuracy_score(pred_y_0, y_test))\n",
    "\n",
    "probs=xgb_model.predict_proba(df_score)\n",
    "\n",
    "print (\"Dataset ABW probabilities:\",probs)"
   ]
  },
  {
   "cell_type": "code",
   "execution_count": 45,
   "metadata": {
    "collapsed": false
   },
   "outputs": [
    {
     "name": "stderr",
     "output_type": "stream",
     "text": [
      "Exception ignored in: <bound method DMatrix.__del__ of <xgboost.core.DMatrix object at 0x0000000016103588>>\n",
      "Traceback (most recent call last):\n",
      "  File \"c:\\anaconda3\\lib\\site-packages\\xgboost-0.6-py3.5.egg\\xgboost\\core.py\", line 343, in __del__\n",
      "    _check_call(_LIB.XGDMatrixFree(self.handle))\n",
      "AttributeError: 'DMatrix' object has no attribute 'handle'\n"
     ]
    },
    {
     "data": {
      "text/plain": [
       "<matplotlib.axes._subplots.AxesSubplot at 0x811fcf8>"
      ]
     },
     "execution_count": 45,
     "metadata": {},
     "output_type": "execute_result"
    },
    {
     "data": {
      "image/png": "[encoded data removed]",
      "text/plain": [
       "<matplotlib.figure.Figure at 0x811f0b8>"
      ]
     },
     "metadata": {},
     "output_type": "display_data"
    }
   ],
   "source": [
    "%matplotlib inline\n",
    "\n",
    "importances=xgb_model.feature_importances_\n",
    "\n",
    "importance_frame = pd.DataFrame({'Importance': list(importances), 'Feature': list(X_train.keys())})\n",
    "importance_frame.sort_values(by = 'Importance', inplace = True)\n",
    "importance_frame.plot(kind = 'barh', x = 'Feature', figsize = (8,8), color = 'orange')"
   ]
  },
  {
   "cell_type": "code",
   "execution_count": null,
   "metadata": {
    "collapsed": true
   },
   "outputs": [],
   "source": []
  }
 ],
 "metadata": {
  "kernelspec": {
   "display_name": "Python 3",
   "language": "python",
   "name": "python3"
  },
  "language_info": {
   "codemirror_mode": {
    "name": "ipython",
    "version": 3
   },
   "file_extension": ".py",
   "mimetype": "text/x-python",
   "name": "python",
   "nbconvert_exporter": "python",
   "pygments_lexer": "ipython3",
   "version": "3.5.2"
  }
 },
 "nbformat": 4,
 "nbformat_minor": 2
}
